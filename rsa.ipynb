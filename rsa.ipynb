{
 "cells": [
  {
   "cell_type": "markdown",
   "metadata": {},
   "source": [
    "## RSA - The Project"
   ]
  },
  {
   "cell_type": "markdown",
   "metadata": {},
   "source": [
    "Name:  George Sorial"
   ]
  },
  {
   "cell_type": "markdown",
   "metadata": {},
   "source": [
    "<hr />\n",
    "\n",
    "# Table of Contents\n",
    "\n",
    "### 1. Introduction  (5 points)\n",
    "\n",
    "### 2. RSA Code Package    (10 points)\n",
    "###### &nbsp;&nbsp;&nbsp;&nbsp;&nbsp;&nbsp; 2.1 Basic tool set\n",
    "###### &nbsp;&nbsp;&nbsp;&nbsp;&nbsp;&nbsp; 2.2 First tool set\n",
    "###### &nbsp;&nbsp;&nbsp;&nbsp;&nbsp;&nbsp; 2.3 Second tool set\n",
    "\n",
    "### 3. RSA More Code  (10 points)\n",
    "\n",
    "###### &nbsp;&nbsp;&nbsp;&nbsp;&nbsp;&nbsp;  Encode\n",
    "###### &nbsp;&nbsp;&nbsp;&nbsp;&nbsp;&nbsp;  Decode\n",
    "\n",
    "### 4. Show a demo of encoding and decoding a message that highlights how your code works and the steps involved.   (20points)\n",
    "\n",
    "### 5. Project Narrative AND results of exchanging codes with others.  (20 points)\n",
    "\n",
    "### 6. Testing and comparing FME to mod.       (10 points)\n",
    "\n",
    "### Points for 7 - 8 only available if the student is exchanging messages by the Friday (midnight) before the project is due.\n",
    "\n",
    "### 7. Breaking codes without a private key    (10 points)\n",
    "\n",
    "### 8. Advanced options (15 points) Needed to get 100%.\n",
    "\n",
    "\n",
    "\n",
    "\n",
    "\n",
    "\n",
    "\n",
    "\n"
   ]
  },
  {
   "cell_type": "markdown",
   "metadata": {},
   "source": []
  },
  {
   "cell_type": "markdown",
   "metadata": {},
   "source": []
  },
  {
   "cell_type": "markdown",
   "metadata": {},
   "source": []
  },
  {
   "cell_type": "markdown",
   "metadata": {},
   "source": [
    "\n",
    "\n",
    "\n",
    "\n",
    "\n"
   ]
  },
  {
   "cell_type": "markdown",
   "metadata": {},
   "source": [
    "\n",
    "\n",
    "\n",
    "\n",
    "\n",
    "\n",
    "### 1. Introduction to your RSA Package and Project.  Give an overview of your project and what you have learned. "
   ]
  },
  {
   "cell_type": "markdown",
   "metadata": {},
   "source": [
    "This is a collection of functions that allow the user to encode and decode messages using the RSA cryptosystem. By providing two prime numbers and a message, this package will provide a public key, private key, and encoded message. The user can also then decode messages they receive using the provided private key. \n",
    "\n",
    "I go into more detail on the purpose of each function below, but as an overview: the basic tool set includes functions to first convert a message into a list of ascii integers, as well as a function to do the reverse. There is also a function to convert an integer to its binary expansion, however, I opted to use a different strategy. The first tool set includes a function for Fast Modular Exponentiation to calculate the modulus of a number raised to a very high exponent. We will review why this is much more efficient than using the built in exponential operator later on. The other function in the first tool set is the Euclidean Algorithm. This calculates the greatest common divisor which is then used in the Find Public Keyh E function to find an appropriate public key. The final piece of this puzzle is the function Find Private Key D. This goes through the Extended Euclidean Algorithm to find the modular inverse used to decrypt messages. Finally with these functions in place, the user can use Decode and Encode messages.\n",
    "\n",
    "Working through this project, I was able to apply the various algorithms and ideas from Discrete Structures into a functioning program. In terms of coding, I learned that syntax is everything. At one point, I kept trying to code a loop using C++ syntax. I found a quick refresher on python online and was back to it in no time."
   ]
  },
  {
   "cell_type": "markdown",
   "metadata": {},
   "source": [
    "### 2.1\n",
    "#### Basic tool set\n",
    "\n",
    "These are functions that you'll need to pre-process the messages before the messages are encoded and decoded by the RSA algorithm. That is the reason we will be defining them first.\n",
    "\n"
   ]
  },
  {
   "cell_type": "code",
   "execution_count": 1,
   "metadata": {},
   "outputs": [],
   "source": [
    "def Convert_Text(_string):\n",
    "    \"\"\"\n",
    "    Define this function such that it takes in a simple \n",
    "    string such as \"hello\" and outputs the corresponding\n",
    "    standard list of integers (ascii) for each letter in the word hello.\n",
    "    For example:\n",
    "    _string = hello\n",
    "    integer_list = [104, 101, 108, 108, 111]\n",
    "    \"\"\"\n",
    "    integer_list = []\n",
    "    for let in _string:\n",
    "        integer_list.append(ord(let))\n",
    "    return integer_list"
   ]
  },
  {
   "cell_type": "code",
   "execution_count": 2,
   "metadata": {
    "tags": []
   },
   "outputs": [],
   "source": [
    "def Convert_Num(_list):\n",
    "    \"\"\"\n",
    "    Do the opposite of what you did in the Convert_Text\n",
    "    function defined above.\n",
    "    \n",
    "    Define this function such that it takes in a list of integers\n",
    "    and outputs the corresponding string (ascii).\n",
    "    \n",
    "    For example:\n",
    "    _list = [104, 101, 108, 108, 111]\n",
    "    _string = hello\n",
    "    \"\"\"\n",
    "    _string = ''\n",
    "    for i in _list:\n",
    "        _string += chr(i)\n",
    "    return _string"
   ]
  },
  {
   "cell_type": "code",
   "execution_count": 3,
   "metadata": {},
   "outputs": [],
   "source": [
    "def Convert_Binary_String(_int):\n",
    "    \"\"\"\n",
    "    Here, you need to define a function that converts an integer to\n",
    "    a string of its binary expansion.\n",
    "    \n",
    "    For example:\n",
    "    _int = 345\n",
    "    bits = 101011001\n",
    "    \"\"\"\n",
    "    bits=\"\"\n",
    "    remaining=_int\n",
    "    if remaining==0:\n",
    "        binary=[0]\n",
    "    while (remaining>0):\n",
    "        bits=str(remaining%2)+bits\n",
    "        remaining=remaining//2\n",
    "    return bits"
   ]
  },
  {
   "cell_type": "markdown",
   "metadata": {},
   "source": [
    "Now that you're done with the basic toolset we'll move on to the first tool set which is actually involved in the RSA system."
   ]
  },
  {
   "cell_type": "markdown",
   "metadata": {},
   "source": [
    "### 2.2 \n",
    "#### First tool set.\n",
    "\n"
   ]
  },
  {
   "cell_type": "code",
   "execution_count": 33,
   "metadata": {},
   "outputs": [],
   "source": [
    "def FME(b, n, m):\n",
    "    \"\"\"\n",
    "    1. Using the fast modular exponentiation algorithm,\n",
    "    the below function should return b**n mod m.\n",
    "    As described on page 254. (however, you may input the exponent and \n",
    "    then convert it to a string - the book verison imports the binary expansion)  \n",
    "    2. You should use the function defined above\n",
    "    Convert_Binary_String()\n",
    "    3. Use this string to test which components are used in the calculation.\n",
    "    4. Yes, there are many other ways to do this. \n",
    "\n",
    "***UPDATE*** You may use the function you developed in your problem set - but be sure it is your own work, commented, etc.. and change inputs as needed.\n",
    "    \"\"\"  \n",
    "    result=1 # Starting at 1. This is a running product corresponding to the bits that equal 1. We ignore the bits that = 0\n",
    "    square=b # Starting this variable at b, and we'll square it each iteration.\n",
    "    while n>0: # This loop will divide n by 2 each iteration, so it will stop at 0 or less\n",
    "        k=n%2  # This finds the binary digit of the least significant digit\n",
    "        if k==1: # if the bit is one, then we want to include this in the result\n",
    "            result=(result*square)%m # here, we multiply the current result by the current square and take the mod of that result. \n",
    "        n//=2 #Divide n by 2 each time to get the quotient rounded down.\n",
    "        square=(square*square)%m   #update the current square value\n",
    "       \n",
    "    return result"
   ]
  },
  {
   "cell_type": "code",
   "execution_count": 34,
   "metadata": {},
   "outputs": [],
   "source": [
    "def Euclidean_Alg(a, b):\n",
    "    \"\"\"\n",
    "    1. Calculate the Greatest Common Divisor of a and b.\n",
    "    \n",
    "    2. Unless b==0, the result will have the same sign as b (so that when\n",
    "    b is divided by it, the result comes out positive).\n",
    "    The function must return a single integer 'x' which is\n",
    "    the gcd of a and b.\n",
    "    \"\"\"\n",
    "    a=abs(a) #This ensures we don't have to worry about negative values.\n",
    "    b=abs(b)\n",
    "    if b>a:  #Here we ensure that a will be the greater value. If it is not, we swap the values.\n",
    "        temp=a\n",
    "        a=b\n",
    "        b=temp\n",
    "    while(b>0): #This loop will run until n is less than or equal to zero. The loop will find the modulus k of a and b, and update the values per the algorithm discovered by Euclid.\n",
    "        k=a%b\n",
    "        a=b\n",
    "        b=k\n",
    "        \n",
    "    return a"
   ]
  },
  {
   "cell_type": "markdown",
   "metadata": {},
   "source": [
    "### 2.3\n",
    "#### Second tool set\n",
    "\n",
    "Here we will implement the meat of the RSA cryptosystem. The functions below will generate the public and private key pairs which will then be used to create a ciphertext using the public key and then decode the same using the pirvate key.\n",
    "\n"
   ]
  },
  {
   "cell_type": "code",
   "execution_count": 2,
   "metadata": {},
   "outputs": [],
   "source": [
    "def Find_Public_Key_e(p, q):\n",
    "    \"\"\"\n",
    "    Implement this function such that\n",
    "    it takes 2 primes p and q.\n",
    "    \n",
    "    Use the gcd function that you have \n",
    "    defined before.\n",
    "    \n",
    "    The function should return 2 elements as follows:\n",
    "    public key: n\n",
    "    public key: e \n",
    "    \n",
    "    \n",
    "    HINT: this function will run a loop to find e such \n",
    "    that e is relatively prime to (p - 1) (q - 1) \n",
    "    and not equal to p or q.\n",
    "    \"\"\"\n",
    "    n=p*q\n",
    "    \n",
    "    for i in range(2,((p-1)*(q-1)),1):\n",
    "        if Euclidean_Alg(i,((p-1)*(q-1)))==1 and i!=p and i!=q:\n",
    "            e=i\n",
    "            return n,e "
   ]
  },
  {
   "cell_type": "code",
   "execution_count": 36,
   "metadata": {},
   "outputs": [],
   "source": [
    "def Find_Private_Key_d(e, p, q):\n",
    "    \"\"\"\n",
    "    Implement this method\n",
    "    to find the decryption exponent d such that\n",
    "    d is the modular inverse of e. \n",
    "    \n",
    "    This will use the Extended Euclidean Algorithm\n",
    "    \n",
    "    This function should return the following:\n",
    "    d: the decryption component.\n",
    "    \"\"\"\n",
    "    s1=1    #Here I initialize the variables s1,t1 and s2,t2 to the starting coefficients\n",
    "    t1=0\n",
    "    s2=0\n",
    "    t2=1 \n",
    "    n=(p-1)*(q-1)\n",
    "    while(n>0): #This loop will run until n is less than or equal to zero\n",
    "        k=e%n   #k is the remainder\n",
    "        g=e//n  #g is the quotient\n",
    "        e=n     #m is then updated to n\n",
    "        n=k     #n is updated to the quotient\n",
    "        s1temp=s2   #to update the coefficient variables, we need temporary variables\n",
    "        t1temp=t2\n",
    "        s2temp=s1-g*s2\n",
    "        t2temp=t1-g*t2\n",
    "        s1=s1temp   #here we update coefficient variables using the temporary variables\n",
    "        t1=t1temp\n",
    "        s2=s2temp\n",
    "        t2=t2temp\n",
    "    while (s1<0):           # this loop takes advantage of the fact that there is not one single unique inverse of a mod.\n",
    "        s1+=((p-1)*(q-1))\n",
    "    return s1"
   ]
  },
  {
   "cell_type": "markdown",
   "metadata": {},
   "source": [
    "### 3.\n",
    "#### Putting things all together.\n",
    "\n",
    "1. In this part, you will define two functions `Encode` and `Decode` which will use the public and private keys that you calculated using the above 2 functions in the second toolset.\n",
    "2. Using the public key, the `Encode` function will encode a message and generate the corresponding cipher_text.\n",
    "3. Using the private key, the `Decode` function will decode a ciper_text and recover the original message.\n",
    "\n"
   ]
  },
  {
   "cell_type": "code",
   "execution_count": 37,
   "metadata": {},
   "outputs": [
    {
     "name": "stdout",
     "output_type": "stream",
     "text": [
      "[8397, 8244, 4303, 4303, 4399, 8202, 8397, 4399, 10916, 3120, 4838]\n"
     ]
    }
   ],
   "source": [
    "def Encode(n, e, message):\n",
    "    \"\"\"\n",
    "    Here, the message will be a string of characters.\n",
    "    Use the function Convert_Text from \n",
    "    the basic tool set and get a list of numbers.\n",
    "    \n",
    "    Encode each of those numbers using n and e and\n",
    "    return the encoded cipher_text.\n",
    "    \"\"\"\n",
    "    cipher_text = []\n",
    "    for let in Convert_Text(message): #here we will go through each letter of the text. We will run FME using the letter and the provided e and n. The result is added to a list.\n",
    "        cipher_text.append(FME(let, e, n))\n",
    "        \n",
    "    return cipher_text"
   ]
  },
  {
   "cell_type": "code",
   "execution_count": 38,
   "metadata": {},
   "outputs": [
    {
     "name": "stdout",
     "output_type": "stream",
     "text": [
      "PIZZA PARTY\n"
     ]
    }
   ],
   "source": [
    "def Decode(n, d, cipher_text):\n",
    "    \"\"\"\n",
    "    Here, the cipher_text will be a list of integers.\n",
    "    First, you will decrypt each of those integers using \n",
    "    n and d.\n",
    "    Later, you will need to use the function Convert_Num, that converts the integers to a string, \n",
    "    from the basic toolset to recover the original message as a string. \n",
    "    \n",
    "    \"\"\"\n",
    "    integers = []\n",
    "    message = ''\n",
    "    \n",
    "    for i in cipher_text: #We will run FME using each integer in the list and the provided d and n to decode the message. This gives us the ascii values which are appended to a list.\n",
    "        integers.append(FME(i,d,n))\n",
    "    message=Convert_Num(integers) #finally, the ascii values are converted to text\n",
    "    \n",
    "    return message"
   ]
  },
  {
   "cell_type": "markdown",
   "metadata": {},
   "source": [
    "### 4.  Demonstrate how your RSA works below using a mix of text and code blocks that make it clear to the reader how this works and why you chose to put it together the way you did:\n",
    "\n",
    "* This is a step by step guide to using your code with a specific example that I can follow.\n",
    "\n",
    "* Encode a message (including generating keys).\n",
    "\n",
    "* Publish your public key and message to Piazza.\n",
    "\n",
    "* Decode messages from Piazza.\n",
    "\n",
    "* Test!\n",
    "\n",
    "\n",
    "\n"
   ]
  },
  {
   "cell_type": "markdown",
   "metadata": {},
   "source": [
    "The goal is to calculate n, d, and e. With these three values we can encode and decode messages.\n",
    "\n",
    "**Step 1**: Chose two prime numbers, p and q. For this example, we will use 67 and 43 though in practice, prime numbers with hundreds of digits are used. \n",
    "\n",
    "**Step 2**: Use Find_Public_Key_e to calculate n and e.  n is simply the product of the two prime numbers "
   ]
  },
  {
   "cell_type": "markdown",
   "metadata": {},
   "source": [
    "<code> n=p*q </code>"
   ]
  },
  {
   "cell_type": "markdown",
   "metadata": {},
   "source": [
    "To find e, we use the euclidean algorithm to find a divisor of 67 and 43 that is also relatively prime to (p-1)x(q-1) and also not equal to p or q. I set up the loop to start at 2 and increase by 1 up to (p-1)x(q-1). For each integer, the loop checks if the GCD is one and not equal to p or q. After coding it this way, I realized there are a couple of other options for this loop. It can go in the reverse direction starting from (p-1)x(q-1), and it can also check random intgers between this range."
   ]
  },
  {
   "cell_type": "code",
   "execution_count": 3,
   "metadata": {},
   "outputs": [
    {
     "ename": "NameError",
     "evalue": "name 'Euclidean_Alg' is not defined",
     "output_type": "error",
     "traceback": [
      "\u001b[0;31m---------------------------------------------------------------------------\u001b[0m",
      "\u001b[0;31mNameError\u001b[0m                                 Traceback (most recent call last)",
      "\u001b[0;32m/tmp/ipykernel_122/3218122245.py\u001b[0m in \u001b[0;36m<module>\u001b[0;34m\u001b[0m\n\u001b[0;32m----> 1\u001b[0;31m \u001b[0mprint\u001b[0m \u001b[0;34m(\u001b[0m\u001b[0mFind_Public_Key_e\u001b[0m\u001b[0;34m(\u001b[0m\u001b[0;36m67\u001b[0m\u001b[0;34m,\u001b[0m \u001b[0;36m43\u001b[0m\u001b[0;34m)\u001b[0m\u001b[0;34m)\u001b[0m\u001b[0;34m\u001b[0m\u001b[0;34m\u001b[0m\u001b[0m\n\u001b[0m",
      "\u001b[0;32m/tmp/ipykernel_122/2266481738.py\u001b[0m in \u001b[0;36mFind_Public_Key_e\u001b[0;34m(p, q)\u001b[0m\n\u001b[1;32m     19\u001b[0m \u001b[0;34m\u001b[0m\u001b[0m\n\u001b[1;32m     20\u001b[0m     \u001b[0;32mfor\u001b[0m \u001b[0mi\u001b[0m \u001b[0;32min\u001b[0m \u001b[0mrange\u001b[0m\u001b[0;34m(\u001b[0m\u001b[0;36m2\u001b[0m\u001b[0;34m,\u001b[0m\u001b[0;34m(\u001b[0m\u001b[0;34m(\u001b[0m\u001b[0mp\u001b[0m\u001b[0;34m-\u001b[0m\u001b[0;36m1\u001b[0m\u001b[0;34m)\u001b[0m\u001b[0;34m*\u001b[0m\u001b[0;34m(\u001b[0m\u001b[0mq\u001b[0m\u001b[0;34m-\u001b[0m\u001b[0;36m1\u001b[0m\u001b[0;34m)\u001b[0m\u001b[0;34m)\u001b[0m\u001b[0;34m,\u001b[0m\u001b[0;36m1\u001b[0m\u001b[0;34m)\u001b[0m\u001b[0;34m:\u001b[0m\u001b[0;34m\u001b[0m\u001b[0;34m\u001b[0m\u001b[0m\n\u001b[0;32m---> 21\u001b[0;31m         \u001b[0;32mif\u001b[0m \u001b[0mEuclidean_Alg\u001b[0m\u001b[0;34m(\u001b[0m\u001b[0mi\u001b[0m\u001b[0;34m,\u001b[0m\u001b[0;34m(\u001b[0m\u001b[0;34m(\u001b[0m\u001b[0mp\u001b[0m\u001b[0;34m-\u001b[0m\u001b[0;36m1\u001b[0m\u001b[0;34m)\u001b[0m\u001b[0;34m*\u001b[0m\u001b[0;34m(\u001b[0m\u001b[0mq\u001b[0m\u001b[0;34m-\u001b[0m\u001b[0;36m1\u001b[0m\u001b[0;34m)\u001b[0m\u001b[0;34m)\u001b[0m\u001b[0;34m)\u001b[0m\u001b[0;34m==\u001b[0m\u001b[0;36m1\u001b[0m \u001b[0;32mand\u001b[0m \u001b[0mi\u001b[0m\u001b[0;34m!=\u001b[0m\u001b[0mp\u001b[0m \u001b[0;32mand\u001b[0m \u001b[0mi\u001b[0m\u001b[0;34m!=\u001b[0m\u001b[0mq\u001b[0m\u001b[0;34m:\u001b[0m\u001b[0;34m\u001b[0m\u001b[0;34m\u001b[0m\u001b[0m\n\u001b[0m\u001b[1;32m     22\u001b[0m             \u001b[0me\u001b[0m\u001b[0;34m=\u001b[0m\u001b[0mi\u001b[0m\u001b[0;34m\u001b[0m\u001b[0;34m\u001b[0m\u001b[0m\n\u001b[1;32m     23\u001b[0m             \u001b[0;32mreturn\u001b[0m \u001b[0mn\u001b[0m\u001b[0;34m,\u001b[0m\u001b[0me\u001b[0m\u001b[0;34m\u001b[0m\u001b[0;34m\u001b[0m\u001b[0m\n",
      "\u001b[0;31mNameError\u001b[0m: name 'Euclidean_Alg' is not defined"
     ]
    }
   ],
   "source": [
    "print (Find_Public_Key_e(67, 43))"
   ]
  },
  {
   "cell_type": "markdown",
   "metadata": {},
   "source": [
    "**Step 3**: After finding n and e, the final piece we need is 'd'. We can plug in e, p, q into the function Find_Private_Key_d. This will go through the Extended Euclidean Algorithm to find Bezout's coefficients. Like the Euclidean algorithm, this function finds the GCD, but it also provides s1 which happens to be the modular inverse of e mod (p-1)x(q-1). This modular inverse is 'd' To prevent a negative result for 'd', there is a loop that will add the modulus to 'd' until the result is positive; this only works because modular inverses are not unique."
   ]
  },
  {
   "cell_type": "code",
   "execution_count": 40,
   "metadata": {},
   "outputs": [
    {
     "name": "stdout",
     "output_type": "stream",
     "text": [
      "1109\n"
     ]
    }
   ],
   "source": [
    "print(Find_Private_Key_d(5, 67, 43))"
   ]
  },
  {
   "cell_type": "markdown",
   "metadata": {},
   "source": [
    "**Step 5**: Now with n, e, and d figured out we will start to encode and decode messages. The encode function will take n, e, and a message then use Convert_Text to convert each letter into ascii. For each ascii integer, we will use Fast Modular Exponentiation to calculate $ascii^{e}mod n$. We now have a message comprised of encoded ascii integers!"
   ]
  },
  {
   "cell_type": "code",
   "execution_count": 41,
   "metadata": {},
   "outputs": [
    {
     "name": "stdout",
     "output_type": "stream",
     "text": [
      "[1420, 1177, 1775, 1837, 2642, 2306, 1177, 1733, 557, 2306, 83, 1486, 1486, 23, 2306, 20, 2642, 1486, 405, 20, 2306, 2146, 1177, 1775, 2188, 2146, 557, 1187]\n"
     ]
    }
   ],
   "source": [
    "print (Encode(2881, 5, \"Watch any good shows lately?\"))"
   ]
  },
  {
   "cell_type": "markdown",
   "metadata": {},
   "source": [
    "**Step 6**: Finally, we can decode a response to the question above using the function Decode. Decode needs n, d, and the encoded message. For each ascii integer in the encoded message we will again use the FME function, but this time the eponent value is 'd': $ascii^{d}mod n$ We now have the decoded ascii values and just need to convert from ascii to text using the Convert_Num function. Let's decode the response below:"
   ]
  },
  {
   "cell_type": "code",
   "execution_count": 42,
   "metadata": {},
   "outputs": [
    {
     "name": "stdout",
     "output_type": "stream",
     "text": [
      "We just finished watching \"Queen's Gambit\" on Netflix. Really loved it. I think this class probably helped me appreciate it even more than I would have, too.\n"
     ]
    }
   ],
   "source": [
    "print(Decode(2881,1109,[1420, 2188, 2306, 2133, 1213, 20, 1775, 2306, 709, 30, 1733, 30, 20, 2642, 2188, 23, 2306, 405, 1177, 1775, 1837, 2642, 30, 1733, 83, 2306, 2054, 2293, 1213, 2188, 2188, 1733, 2803, 20, 2306, 220, 1177, 2640, 1324, 30, 1775, 2054, 2306, 1486, 1733, 2306, 385, 2188, 1775, 709, 2146, 30, 119, 286, 2306, 868, 2188, 1177, 2146, 2146, 557, 2306, 2146, 1486, 242, 2188, 23, 2306, 30, 1775, 286, 2306, 1947, 2306, 1775, 2642, 30, 1733, 2627, 2306, 1775, 2642, 30, 20, 2306, 1837, 2146, 1177, 20, 20, 2306, 2755, 2198, 1486, 1324, 1177, 1324, 2146, 557, 2306, 2642, 2188, 2146, 2755, 2188, 23, 2306, 2640, 2188, 2306, 1177, 2755, 2755, 2198, 2188, 1837, 30, 1177, 1775, 2188, 2306, 30, 1775, 2306, 2188, 242, 2188, 1733, 2306, 2640, 1486, 2198, 2188, 2306, 1775, 2642, 1177, 1733, 2306, 1947, 2306, 405, 1486, 1213, 2146, 23, 2306, 2642, 1177, 242, 2188, 2022, 2306, 1775, 1486, 1486, 286]))"
   ]
  },
  {
   "cell_type": "markdown",
   "metadata": {},
   "source": [
    "If you create a custom main function or a script to read codes as your CUSTOM FEATURE, you may include it here with a large heading CUSTOM FEATURE:"
   ]
  },
  {
   "cell_type": "code",
   "execution_count": null,
   "metadata": {},
   "outputs": [],
   "source": []
  },
  {
   "cell_type": "code",
   "execution_count": null,
   "metadata": {},
   "outputs": [],
   "source": []
  },
  {
   "cell_type": "code",
   "execution_count": null,
   "metadata": {},
   "outputs": [],
   "source": []
  },
  {
   "cell_type": "markdown",
   "metadata": {},
   "source": [
    "### 5. **Insert Narrative (ONE OR TWO pages of meaningful narrative about your process - not including the examples) here in this block. **\n",
    "\n",
    "* Describe the results of SPECIFIC exchanging keys and codes with classmates. (at least 3 complete examples).\n",
    "\n",
    "* What was challenging? \n",
    "\n",
    "* Who helped you with your project? \n",
    "\n",
    "* Which resources were most helpful?\n",
    "\n",
    "* What was your Best Mistake, (funniest? most frustrating? the one you learned the most from?)\n",
    "\n",
    "* Again, be sure to include results and a discussion of specific exchanges with others.\n",
    "\n",
    "\n",
    "I feel like every aspect of this project was challenging albeit rewarding for me. Everything from Fast Modular Exponentiation to the Euclidean Algorithm to the Extended Euclidean Algorithm was unlike anything I have ever studied before. Each step of each idea truly required me to thoroughly understand every concept beforehand. For example, to complete the Fast Modular Exponentiation function, I had to first grasp the concept of binary expansion and incorporate that into the algorithm. Working through the Extended Euclidean Algorithm was the most difficult task. Initially, it was difficult to keep track of the numerous variables and equations needed each step of the way. Fortunately, the mastery workbook along with Sriram's video provided some framwork to help keep everything straight.\n",
    "\n",
    "Of course, each piece of this project was challenging to grasp initially, but what really tied everything together for me was the RSA infographic that Professor Stade provided. There was a lot of great discussion going on in Piazza as well. I admit I had not used Python for a while and needed to turn to Google for some reminders. The 'ord' function was one I had not used before. I also embarassingly kept trying to set up a loop using C++ syntax (i=0...) The best mistake I made was misreading the statement: \"Use GCD to find *e* which should be relatively prime to (p-1)x(q-1)\" I misread that final part of the sentence as \"relatively prime to (p-1) and (q-1)\" which is a very different idea. Exchanging keys and codes with classmates was an excellent way to finish the project and tie everything together. \n",
    "\n",
    "I translated professor Stade's question \n",
    "Public key (n,e) = (5251,3)\n",
    "Private key (n,d) = (5251, 3403)\n",
    "Encoded Message = [2128, 1150, 4250, 1349, 1262, 3336, 2371, 2497, 519, 1262, 1263, 1105, 3336, 1349, 1262, 2310, 1105, 3336, 4115, 762, 2405, 1263, 1105, 3336, 1262, 1349, 1150, 1105, 1262, 506, 1105, 1105, 4723, 2405, 2497, 519, 1262, 1974, 2371, 58, 1262, 519, 1105, 1349, 1262, 4839, 1150, 1105, 2497, 1262, 1974, 2371, 58, 762, 1262, 13, 4679, 1573, 1262, 4115, 2371, 2310, 1105, 1262, 2405, 3336, 1262, 4839, 2371, 762, 1560, 2405, 2497, 519, 3250]\n",
    "\n",
    "\"What song best describes the feeling you get when your RSA code is working?\n",
    "\n",
    "And responded with \n",
    "[443, 2497, 58, 2405, 1349, 1262, 1263, 1974, 1262, 1685, 2371, 421, 2405, 2497, 519]\n",
    "\n",
    "Inuit by Foxing\n",
    "\n",
    "Michael Condon asked:\n",
    "Public Key (n, e) = (3233,17)\n",
    "Private Key (n, d) = (3233, 2753)\n",
    "Encoded Message: \n",
    "[1486, 1369, 1992, 487, 2185, 2160, 1992, 281, 2185, 2160, 745, 1773, 1992, 612, 3179, 281, 690, 1992, 2185, 2235, 745, 487, 1992, 2185, 2235, 1313, 1992, 1230, 884, 2185, 281, 690, 1992, 884, 2185, 1992, 2570, 2160, 487, 1992, 1107, 2170, 3179, 281, 2170, 1992, 281, 2185, 2271, 612, 1632, 2235, 487, 1992, 1107, 2185, 2160, 745, 1773, 1992, 487, 2185, 2160, 1992, 2570, 2160, 487, 3216]\n",
    "\n",
    "\"If you could pick only one stock to buy which company would you buy?\"\n",
    "\n",
    "and I responded with  [1486, 1956, 2578, 1313, 1992, 1632, 745, 1107, 1632, 487, 1230, 1992, 2570, 1313, 1313, 2235, 1992, 1632, 1992, 1369, 1632, 2235, 1992, 2185, 1369, 1992, 1230, 884, 2185, 281, 690, 1230, 1992, 884, 2170, 1632, 884, 1992, 1313, 1542, 2170, 3179, 2570, 3179, 884, 1992, 3179, 1773, 3179, 2185, 1230, 487, 2235, 281, 2412, 1632, 884, 3179, 281, 1992, 2412, 3179, 1230, 690, 1992, 436, 1759]\n",
    "\n",
    "\"I've always been a fan of stocks that exhibit idiosyncratic risk :D\" which is a bit of a code in itself. We'll see if he picks up on what I mean :D\n",
    "\n",
    "I asked Public Key (n,e) = (2881, 5)\n",
    "Private Key (n,d) = (2881, 1109)\n",
    "[1420, 1177, 1775, 1837, 2642, 2306, 1177, 1733, 557, 2306, 83, 1486, 1486, 23, 2306, 20, 2642, 1486, 405, 20, 2306, 2146, 1177, 1775, 2188, 2146, 557, 1187]\n",
    "\n",
    "\"Watch any good shows lately?\"\n",
    "\n",
    "and Tyuler Kinkade responded with [1420, 2188, 2306, 2133, 1213, 20, 1775, 2306, 709, 30, 1733, 30, 20, 2642, 2188, 23, 2306, 405, 1177, 1775, 1837, 2642, 30, 1733, 83, 2306, 2054, 2293, 1213, 2188, 2188, 1733, 2803, 20, 2306, 220, 1177, 2640, 1324, 30, 1775, 2054, 2306, 1486, 1733, 2306, 385, 2188, 1775, 709, 2146, 30, 119, 286, 2306, 868, 2188, 1177, 2146, 2146, 557, 2306, 2146, 1486, 242, 2188, 23, 2306, 30, 1775, 286, 2306, 1947, 2306, 1775, 2642, 30, 1733, 2627, 2306, 1775, 2642, 30, 20, 2306, 1837, 2146, 1177, 20, 20, 2306, 2755, 2198, 1486, 1324, 1177, 1324, 2146, 557, 2306, 2642, 2188, 2146, 2755, 2188, 23, 2306, 2640, 2188, 2306, 1177, 2755, 2755, 2198, 2188, 1837, 30, 1177, 1775, 2188, 2306, 30, 1775, 2306, 2188, 242, 2188, 1733, 2306, 2640, 1486, 2198, 2188, 2306, 1775, 2642, 1177, 1733, 2306, 1947, 2306, 405, 1486, 1213, 2146, 23, 2306, 2642, 1177, 242, 2188, 2022, 2306, 1775, 1486, 1486, 286]\n",
    "\n",
    "\"We just finished watching \"Queen's Gambit\" on Netflix. Really loved it. I think this class probably helped me appreciate it even more than I would have, too.\""
   ]
  },
  {
   "cell_type": "markdown",
   "metadata": {},
   "source": [
    "### 6. FME Exploration - (CODE INTERVIEW type question)\n",
    "\n",
    "\n",
    "\n",
    "* Explain in detail (give an example) why RSA needs to use an FME function and cannot just simply use the Python Mod function % .\n",
    "\n",
    "* You may use your arguments from the Number theory Mastery Workbook.\n",
    "\n",
    "* You may wish to use an example from your code breaking experience.\n"
   ]
  },
  {
   "cell_type": "markdown",
   "metadata": {},
   "source": [
    "As I mentioned above, RSA uses very high exponent values. The runtime using python's built in mathematical operators is prohibitively long as the number of digits in the exponent increases. Below you can see the brute force fakeFME function has a total runtime that is several orders of magnitude longer than the FME function below it. As the value of the exponent increases, the difference in runtime becomes more drastic."
   ]
  },
  {
   "cell_type": "code",
   "execution_count": 43,
   "metadata": {},
   "outputs": [
    {
     "name": "stdout",
     "output_type": "stream",
     "text": [
      "147\n",
      "CPU times: user 20.4 s, sys: 108 ms, total: 20.5 s\n",
      "Wall time: 21.3 s\n"
     ]
    }
   ],
   "source": [
    "%%time \n",
    "#I learned about this timer from a student on piazza, but I cannot find the post to properly cr\n",
    "def fakeFME(b, n, m):\n",
    "    return (b**n)%m\n",
    "print(fakeFME(15,12345678,222))\n"
   ]
  },
  {
   "cell_type": "code",
   "execution_count": 44,
   "metadata": {},
   "outputs": [
    {
     "name": "stdout",
     "output_type": "stream",
     "text": [
      "147\n",
      "CPU times: user 862 µs, sys: 0 ns, total: 862 µs\n",
      "Wall time: 398 µs\n"
     ]
    }
   ],
   "source": [
    "%%time\n",
    "print (FME(15,12345678,222))"
   ]
  },
  {
   "cell_type": "markdown",
   "metadata": {},
   "source": [
    "## CODE BREAKING ##\n",
    "\n",
    "This section of the project is only available to students exchanging codes by the Friday (midnight) before the project is due.\n",
    "\n",
    "After you have tested your RSA package yourself, and tested it with classmates by publishing both the private and public keys on Piazza, post 2 messages with just the public keys for people to break on the \"Just Public Keys\" thread - use both very small n ‘s (under 1000) for practice, and some with a challenge.\n",
    "\n",
    "\n",
    "**Implementing a factoring algorithm:**\n",
    "\n",
    "Begin by coding the basic brute force factorization algorithm given in pseudocode below.\n",
    "\n",
    "Brute Force Factoring\n",
    "<pre><code>def factorize(n):\n",
    "    # n is a number, return the smallest factor of n\n",
    "    for i from 2 to n-1:\n",
    "        if i divides n:\n",
    "            return i\n",
    "        return FALSE\n",
    "        </code></pre>"
   ]
  },
  {
   "cell_type": "code",
   "execution_count": 45,
   "metadata": {},
   "outputs": [],
   "source": [
    "def factorize(n):\n",
    "    for i in range(2,n-1): #this loop will return the first evenly divisble number between two and n-1\n",
    "        if n%i==0: \n",
    "            return i, int(n/i)\n",
    "    return False"
   ]
  },
  {
   "cell_type": "markdown",
   "metadata": {},
   "source": [
    "### 7. Do the following for full credit in number 7\n",
    "* To break others’ code you just need to factor n (public key). **Explain how and why code breaking works in a text block.**\n",
    "\n",
    "* Demonstrate 1 example of breaking a code with a small n, and show the steps involved.\n",
    "\n",
    "* Now attempt codes with larger n\n",
    "\n",
    "* Describe your attempt to break codes with large n. At what values would you say n's get difficult? (too large to factor)\n",
    "\n",
    "* Show COMPLETELY at least 3 codes you broke and/or codes of your that were broken."
   ]
  },
  {
   "cell_type": "markdown",
   "metadata": {},
   "source": [
    "The public key is *public* meaning that it's freely available for anyone to see. If 'n' is too small, then it takes less time for a program to factor it. Factoring 'e' gives you 'p' and 'q' which can lead you to 'd'. 'n' is typically 100s of digits long in practice, which is impossible to factorize in a reasonable amount of time. Below, factorizing an 18 digit 'n' takes approximately 25 seconds "
   ]
  },
  {
   "cell_type": "code",
   "execution_count": 46,
   "metadata": {},
   "outputs": [
    {
     "name": "stdout",
     "output_type": "stream",
     "text": [
      "(19, 37)\n",
      "CPU times: user 319 µs, sys: 0 ns, total: 319 µs\n",
      "Wall time: 213 µs\n"
     ]
    }
   ],
   "source": [
    "%%time\n",
    "# in this example, we have a small value for n and e. n=703 and e=113\n",
    "print(factorize(703)) #as you can see this gives us both p and q "
   ]
  },
  {
   "cell_type": "code",
   "execution_count": 47,
   "metadata": {},
   "outputs": [
    {
     "name": "stdout",
     "output_type": "stream",
     "text": [
      "281\n"
     ]
    }
   ],
   "source": [
    "#now let's find d by plugging in e, p, and q!\n",
    "print(Find_Private_Key_d(113, 19, 37))"
   ]
  },
  {
   "cell_type": "code",
   "execution_count": 48,
   "metadata": {},
   "outputs": [
    {
     "name": "stdout",
     "output_type": "stream",
     "text": [
      "The Conquistador's treasure is buried south of Creed.\n"
     ]
    }
   ],
   "source": [
    "#Finally we'll decode the encoded message using n, d, and the cipher text\n",
    "print(Decode(703,281,[544, 472, 233, 242, 250, 555, 591, 550, 376, 364, 210, 165, 526, 47, 555, 95, 476, 210, 242, 165, 95, 233, 526, 210, 376, 95, 233, 242, 364, 210, 242, 224, 376, 95, 364, 233, 47, 242, 210, 555, 376, 165, 472, 242, 555, 410, 242, 250, 95, 233, 233, 47, 145]))"
   ]
  },
  {
   "cell_type": "markdown",
   "metadata": {},
   "source": [
    "The second code we'll break has a 7 digit 'n': \n",
    "Andrew Hogan\n",
    "Public Key (n, e) -- 4182767, 1690319\n",
    "\n",
    "Cipher: [2187474, 2164060, 1814081, 2164060, 1524456, 2517607, 1814081, 2517607, 979048, 3110313, 2517607, 518292, 4086418, 527853, 1814081, 4086418, 1541372, 2517607, 1814081, 1772795, 3110313, 778876, 1524456, 745612, 527853, 1541372, 1814081, 347101, 1524456, 847187, 164557, 745612, 527853, 745612, 4086418, 745612, 2164060, 1524456, 313892]"
   ]
  },
  {
   "cell_type": "code",
   "execution_count": 49,
   "metadata": {},
   "outputs": [
    {
     "name": "stdout",
     "output_type": "stream",
     "text": [
      "(1031, 4057)\n",
      "CPU times: user 260 µs, sys: 0 ns, total: 260 µs\n",
      "Wall time: 170 µs\n"
     ]
    }
   ],
   "source": [
    "%%time\n",
    "print(factorize(4182767)) # this doesn't take much longer to compute even though I'm using a brute force algorithm. At 7 digits, it still won't take the 'eoons' it can with higher digits values."
   ]
  },
  {
   "cell_type": "code",
   "execution_count": 50,
   "metadata": {},
   "outputs": [
    {
     "name": "stdout",
     "output_type": "stream",
     "text": [
      "3567839\n",
      "No one expects the Spanish Inquisition.\n",
      "[2187474, 347101, 347101]\n"
     ]
    }
   ],
   "source": [
    "print(Find_Private_Key_d(1690319,1031,4057)) #get d using e,p,and q. Then decode\n",
    "print(Decode(4182767, 3567839, [2187474, 2164060, 1814081, 2164060, 1524456, 2517607, 1814081, 2517607, 979048, 3110313, 2517607, 518292, 4086418, 527853, 1814081, 4086418, 1541372, 2517607, 1814081, 1772795, 3110313, 778876, 1524456, 745612, 527853, 1541372, 1814081, 347101, 1524456, 847187, 164557, 745612, 527853, 745612, 4086418, 745612, 2164060, 1524456, 313892]))\n",
    "print(Encode(4182767,1690319, \"NII\")) #I'll reply in the most annoying way possible :D\n"
   ]
  },
  {
   "cell_type": "markdown",
   "metadata": {},
   "source": [
    "Here's one with an 18 digit 'n'\n",
    "Bryan Bender 4 days ago\n",
    "Public Key: [193604375590086907, 3]\n",
    "\n",
    "Cipher: [274625, 1331000, 1771561, 1367631, 1331000, 1030301, 32768, 1685159, 1124864, 1367631, 32768, 912673, 1560896, 1560896, 1030301, 1295029, 1404928, 1560896, 1520875, 32768, 1560896, 1367631, 32768, 1092727, 1030301, 1331000, 1030301, 1481544, 912673, 1560896, 1030301, 32768, 1481544, 912673, 1331000, 1000000, 1367631, 1295029, 32768, 1331000, 1601613, 1295029, 941192, 1030301, 1481544, 1520875, 32768, 941192, 1771561, 32768, 1000000, 1030301, 1560896, 1030301, 1481544, 1295029, 1157625, 1331000, 1157625, 1520875, 1560896, 1157625, 970299, 32768, 1295029, 1030301, 912673, 1331000, 1520875, 32768, 1157625, 1520875, 85184, 32768, 1367631, 1061208, 32768, 970299, 1367631, 1601613, 1481544, 1520875, 1030301, 85184, 32768, 1259712, 1157625, 1643032, 1157625, 1331000, 1092727, 32768, 1157625, 1331000, 32768, 912673, 32768, 1520875, 1560896, 912673, 1560896, 1030301, 32768, 1367631, 1061208, 32768, 1520875, 1157625, 1331000, 97336]"
   ]
  },
  {
   "cell_type": "code",
   "execution_count": 51,
   "metadata": {},
   "outputs": [
    {
     "name": "stdout",
     "output_type": "stream",
     "text": [
      "(220004399, 880002293)\n",
      "CPU times: user 23.7 s, sys: 0 ns, total: 23.7 s\n",
      "Wall time: 25 s\n"
     ]
    }
   ],
   "source": [
    "%%time\n",
    "print(factorize(193604375590086907)) #This takes considerably longer to computer, although the wait is worth it if we're trying to decipher a juicy message. "
   ]
  },
  {
   "cell_type": "code",
   "execution_count": 52,
   "metadata": {},
   "outputs": [
    {
     "name": "stdout",
     "output_type": "stream",
     "text": [
      "129069582993386811\n",
      "Anyone who attempts to generate random numbers by deterministic means is, of course, living in a state of sin.\n"
     ]
    }
   ],
   "source": [
    "print(Find_Private_Key_d(3,220004399,880002293)) # gives us d of 129069582993386811 which we plug into decode \n",
    "print(Decode(193604375590086907, 129069582993386811, [274625, 1331000, 1771561, 1367631, 1331000, 1030301, 32768, 1685159, 1124864, 1367631, 32768, 912673, 1560896, 1560896, 1030301, 1295029, 1404928, 1560896, 1520875, 32768, 1560896, 1367631, 32768, 1092727, 1030301, 1331000, 1030301, 1481544, 912673, 1560896, 1030301, 32768, 1481544, 912673, 1331000, 1000000, 1367631, 1295029, 32768, 1331000, 1601613, 1295029, 941192, 1030301, 1481544, 1520875, 32768, 941192, 1771561, 32768, 1000000, 1030301, 1560896, 1030301, 1481544, 1295029, 1157625, 1331000, 1157625, 1520875, 1560896, 1157625, 970299, 32768, 1295029, 1030301, 912673, 1331000, 1520875, 32768, 1157625, 1520875, 85184, 32768, 1367631, 1061208, 32768, 970299, 1367631, 1601613, 1481544, 1520875, 1030301, 85184, 32768, 1259712, 1157625, 1643032, 1157625, 1331000, 1092727, 32768, 1157625, 1331000, 32768, 912673, 32768, 1520875, 1560896, 912673, 1560896, 1030301, 32768, 1367631, 1061208, 32768, 1520875, 1157625, 1331000, 97336]))\n"
   ]
  },
  {
   "cell_type": "markdown",
   "metadata": {},
   "source": [
    "\n",
    "\n",
    "\n"
   ]
  },
  {
   "cell_type": "markdown",
   "metadata": {},
   "source": [
    "\n",
    "## Custom Feature ##\n",
    "The last 15 points of the require a custom feature in your project. This is an opportinity for you to explore an RSA or coding topic of interest to you. At this point it is not about points, but exploring advanced ideas relevant to you.  This is also a feature that should be relevant to your programming ability. If you are in 1300, creating a main type function may be enough. If you are an experienced programmer, find a topic to push yourself. \n",
    "\n",
    "\n",
    "Custom Features could one or more of the following:\n",
    "\n",
    "1. A Python \"main\" function that allows a user to \"Get keys/Encode/Decode/Break Codes\" etc... \n",
    "2. An exploration of factoring improvements and analyze how effective they are. Must include some kind of timing analysis and multiple code breaking. A superficial treatment will not recieve full points. Must be throughly tested with excellent investigations to recieve full points.\n",
    "3. A script to read codes from Piazza data. You can copy and paste codes from Piazza into a txt files and then have your script read it. This is a VERY helpful tool for doing the project as well. \n",
    "4. Exploration of advanced factoring alogrithms (see Moodle) Try Pollard's Rho <- super satisfying. (full points if well - impemented with thoughtful examples)\n",
    "5. Advanced complexity analysis. \n",
    "6. Other options available, please ask. \n",
    "\n",
    "The Custom Feature is an important part of the project, and it should be a non-trivial response. \n",
    "Please help organize your Custom Feature by breaking it up into sections - ie. not one long block of text.\n",
    "Mininimally executed, \"dialling it in\" type features will not recieve full points. \n",
    "See below for more detials on grading of this section.\n",
    "\n",
    "\n",
    "\n",
    " \n",
    "\n",
    "\n"
   ]
  },
  {
   "cell_type": "code",
   "execution_count": 3,
   "metadata": {},
   "outputs": [
    {
     "ename": "SyntaxError",
     "evalue": "invalid syntax (1094938676.py, line 1)",
     "output_type": "error",
     "traceback": [
      "\u001b[0;36m  File \u001b[0;32m\"/tmp/ipykernel_103/1094938676.py\"\u001b[0;36m, line \u001b[0;32m1\u001b[0m\n\u001b[0;31m    https://home.cs.colorado.edu/~srirams/courses/csci2824-spr14/pollardsRho.html\"\"\"%%time\u001b[0m\n\u001b[0m          ^\u001b[0m\n\u001b[0;31mSyntaxError\u001b[0m\u001b[0;31m:\u001b[0m invalid syntax\n"
     ]
    }
   ],
   "source": [
    "https://home.cs.colorado.edu/~srirams/courses/csci2824-spr14/pollardsRho.html\"\"\"%%time  \n",
    "def pollard(n):\n",
    "    a = 2\n",
    "    b = 3 #starts at 2 in example \n",
    "    p=1\n",
    "    while (b!=a): #maybe while p==1?\n",
    "        a = (a**2+2)%n\n",
    "        b = ((b**2+2)%n)**2+2%n\n",
    "        p = Euclidean_Alg( abs(a-b) , n)\n",
    "        print(a,b,p)\n",
    "    return p\n",
    "print(pollard(4182767))\n",
    "##ran out of time for this. in it's current state, it is way too slow\"\"\""
   ]
  },
  {
   "cell_type": "markdown",
   "metadata": {},
   "source": [
    "**Please use the grading guide below to self grade your Custom Feature.**\n",
    "\n",
    "GRADING FOR CUSTOM FEATURE:\n",
    "\n",
    "15 pts  Wow.  It is amazing.\n",
    "        Shows initiative and originality. \n",
    "        You did something extra special and pushed yourself.\n",
    "        You went beyond all expectations \n",
    "        You broke the rules in a creative way. \n",
    "        Your coding and commenting is exceptional.\n",
    "        Excellent \n",
    "\n",
    "10 - 14 points - It is GOOD! \n",
    "        You were a “self starter”. \n",
    "         You did everything  requested. \n",
    "        All expectations met. \n",
    "       \tYou did a very good job. \n",
    "        Good use of commenting.\n",
    "        Shows mastery of skills.\n",
    "\n",
    "5 -10 points  - Okay.\n",
    "        Minimum requirements.\n",
    "        Commenting weak.\n",
    "\n",
    "0 -5 points - It is not finished. \n",
    "          Does meet objectives. \n",
    "            Did not follow directions. \n",
    "            Choose not to do this part (which is a totally fine choice)\n"
   ]
  },
  {
   "cell_type": "markdown",
   "metadata": {},
   "source": [
    "## Self grading of custom feature ##\n",
    "\n",
    "Here in this block\n",
    "\n",
    "Please rate what score out of 15 your custom feature merits given the criteria above:\n",
    "\n",
    "* For example, if you are brand new to programming, using a main function could be an amazing feature - tell me how this helped you move to a new level.\n",
    "* In what ways did YOU push yourself? Did you try something you've never done before?\n",
    "* Alternatively, if you just did not have the time to do the custum feature, that is actually just fine and a reasonable choice for an adult. No judgment."
   ]
  },
  {
   "cell_type": "markdown",
   "metadata": {},
   "source": [
    "## Grading Notes ##\n",
    "\n",
    "*The project will consist of a combination of text and code blocks.\n",
    "\n",
    "*Grading - all code must be well commented. These should be easy to read. Here is a simple guide: https://realpython.com/python-comments-guide/ \n",
    "\n",
    "*See notes in Moodle about comments and this guide (You do need to have comments on ALL functions and key routines in your code.\n",
    "\n",
    "You also need to use the variables given (unless you are restructuring a code copy for your custom feature) - so notice this guide says you can remove comments only in specific contexts.  \n",
    "\n",
    "For our Project make sure you have adequate comments that show you understand the code you are using.)\n",
    "\n",
    "*The narrative elements of the project are just as important as the coding.\n",
    "\n",
    "*Do NOT copy code from the internet (or anywhere)\n",
    "\n",
    "*Do not ask questions on stackoverflow or similar etc…\n",
    "\n",
    "*You are expected to have read the honesty notes in the syllabus.\n",
    "\n",
    "*Credit sources you used for additional understanding.\n",
    "\n",
    "*Credit classmates that helped you.\n",
    "\n"
   ]
  },
  {
   "cell_type": "code",
   "execution_count": null,
   "metadata": {},
   "outputs": [],
   "source": []
  },
  {
   "cell_type": "code",
   "execution_count": null,
   "metadata": {},
   "outputs": [],
   "source": []
  },
  {
   "cell_type": "code",
   "execution_count": null,
   "metadata": {},
   "outputs": [],
   "source": []
  },
  {
   "cell_type": "code",
   "execution_count": null,
   "metadata": {},
   "outputs": [],
   "source": []
  },
  {
   "cell_type": "code",
   "execution_count": null,
   "metadata": {},
   "outputs": [],
   "source": []
  },
  {
   "cell_type": "code",
   "execution_count": null,
   "metadata": {},
   "outputs": [],
   "source": []
  },
  {
   "cell_type": "code",
   "execution_count": null,
   "metadata": {},
   "outputs": [],
   "source": []
  },
  {
   "cell_type": "code",
   "execution_count": null,
   "metadata": {},
   "outputs": [],
   "source": []
  },
  {
   "cell_type": "code",
   "execution_count": null,
   "metadata": {},
   "outputs": [],
   "source": []
  },
  {
   "cell_type": "code",
   "execution_count": null,
   "metadata": {},
   "outputs": [],
   "source": []
  },
  {
   "cell_type": "code",
   "execution_count": null,
   "metadata": {},
   "outputs": [],
   "source": []
  },
  {
   "cell_type": "code",
   "execution_count": null,
   "metadata": {},
   "outputs": [],
   "source": []
  },
  {
   "cell_type": "code",
   "execution_count": null,
   "metadata": {},
   "outputs": [],
   "source": []
  },
  {
   "cell_type": "code",
   "execution_count": null,
   "metadata": {},
   "outputs": [],
   "source": []
  },
  {
   "cell_type": "code",
   "execution_count": null,
   "metadata": {},
   "outputs": [],
   "source": []
  }
 ],
 "metadata": {
  "kernelspec": {
   "display_name": "Python 3 (ipykernel)",
   "language": "python",
   "name": "python3"
  },
  "language_info": {
   "codemirror_mode": {
    "name": "ipython",
    "version": 3
   },
   "file_extension": ".py",
   "mimetype": "text/x-python",
   "name": "python",
   "nbconvert_exporter": "python",
   "pygments_lexer": "ipython3",
   "version": "3.9.6"
  }
 },
 "nbformat": 4,
 "nbformat_minor": 4
}
